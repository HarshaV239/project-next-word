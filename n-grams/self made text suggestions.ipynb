{
 "cells": [
  {
   "cell_type": "code",
   "execution_count": 35,
   "metadata": {},
   "outputs": [],
   "source": [
    "import re\n",
    "from nltk.tokenize import word_tokenize\n",
    "from collections import defaultdict, Counter\n",
    "from document1 import training_doc1\n",
    "class MarkovChain:\n",
    "  def __init__(self):\n",
    "    self.lookup_dict = defaultdict(list)  \n",
    "  \n",
    "  def add_document(self, string):\n",
    "    preprocessed_list = self._preprocess(string)\n",
    "    pairs = self.__generate_tuple_keys(preprocessed_list)\n",
    "    for pair in pairs:\n",
    "      self.lookup_dict[pair[0]].append(pair[1])\n",
    "    pairs2 = self.__generate_2tuple_keys(preprocessed_list)\n",
    "    for pair in pairs2:\n",
    "      self.lookup_dict[tuple([pair[0], pair[1]])].append(pair[2])\n",
    "    pairs3 = self.__generate_3tuple_keys(preprocessed_list)\n",
    "    for pair in pairs3:\n",
    "      self.lookup_dict[tuple([pair[0], pair[1], pair[2]])].append(pair[3])\n",
    "  \n",
    "  def _preprocess(self, string):\n",
    "    cleaned = re.sub(r'\\W+', ' ', string).lower()\n",
    "    tokenized = word_tokenize(cleaned)\n",
    "    return tokenized\n",
    "\n",
    "  def __generate_tuple_keys(self, data):\n",
    "    if len(data) < 1:\n",
    "      return\n",
    "\n",
    "    for i in range(len(data) - 1):\n",
    "      yield [ data[i], data[i + 1] ]\n",
    "  \n",
    "  def __generate_2tuple_keys(self, data):\n",
    "    if len(data) < 2:\n",
    "      return\n",
    "\n",
    "    for i in range(len(data) - 2):\n",
    "      yield [ data[i], data[i + 1], data[i+2] ]\n",
    "    \n",
    "    \n",
    "  def __generate_3tuple_keys(self, data):\n",
    "    if len(data) < 3:\n",
    "      return\n",
    "\n",
    "    for i in range(len(data) - 3):\n",
    "      yield [ data[i], data[i + 1], data[i+2], data[i+3] ]\n",
    "    \n",
    "  def oneword(self, string):\n",
    "    return Counter(self.lookup_dict[string]).most_common()[:3]\n",
    "\n",
    "  def twowords(self, string):\n",
    "        suggest = Counter(self.lookup_dict[tuple(string)]).most_common()[:3]\n",
    "        if len(suggest)==0:\n",
    "            return self.oneword(string[-1])\n",
    "        return suggest\n",
    "\n",
    "  def threewords(self, string):\n",
    "        suggest = Counter(self.lookup_dict[tuple(string)]).most_common()[:3]\n",
    "        if len(suggest)==0:\n",
    "            return self.twowords(string[-2:])\n",
    "        return suggest\n",
    "    \n",
    "  def morewords(self, string):\n",
    "        return self.threewords(string[-3:])\n",
    "\n",
    "    \n",
    "  def generate_text(self, string):\n",
    "    if len(self.lookup_dict) > 0:\n",
    "        tokens = string.split(\" \")\n",
    "        if len(tokens)==1:\n",
    "            print(\"Next word suggestions:\", self.oneword(string))\n",
    "        elif len(tokens)==2:\n",
    "            print(\"Next word suggestions:\", self.twowords(string.split(\" \")))\n",
    "        elif len(tokens)==3:\n",
    "            print(\"Next word suggestions:\", self.threewords(string.split(\" \")))\n",
    "        elif len(tokens)>3:\n",
    "            print(\"Next word suggestions:\", self.morewords(string.split(\" \")))\n",
    "    return\n",
    "\n"
   ]
  },
  {
   "cell_type": "code",
   "execution_count": 36,
   "metadata": {},
   "outputs": [
    {
     "name": "stdout",
     "output_type": "stream",
     "text": [
      "how\n",
      "Next word suggestions: [('many', 1531), ('did', 459), ('does', 369)]\n"
     ]
    }
   ],
   "source": [
    "my_markov = MarkovChain()\n",
    "my_markov.add_document(training_doc1)\n",
    "my_markov.generate_text(input().lower())"
   ]
  }
 ],
 "metadata": {
  "kernelspec": {
   "display_name": "Python 3",
   "language": "python",
   "name": "python3"
  },
  "language_info": {
   "codemirror_mode": {
    "name": "ipython",
    "version": 3
   },
   "file_extension": ".py",
   "mimetype": "text/x-python",
   "name": "python",
   "nbconvert_exporter": "python",
   "pygments_lexer": "ipython3",
   "version": "3.7.3"
  }
 },
 "nbformat": 4,
 "nbformat_minor": 2
}
